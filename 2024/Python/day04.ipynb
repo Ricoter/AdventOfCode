{
 "cells": [
  {
   "cell_type": "code",
   "execution_count": 1,
   "metadata": {},
   "outputs": [
    {
     "name": "stdout",
     "output_type": "stream",
     "text": [
      "\n",
      "    Advent of Code 2023, Day 4     🎄🎄🎄🎄\n",
      "    Python v3.12.3\n",
      "    Rico van Midde\n",
      "\n"
     ]
    }
   ],
   "source": [
    "day = 4\n",
    "print(f\"\"\"\n",
    "    Advent of Code 2023, Day {day}     {\"🎄\"*day}\n",
    "    Python v3.12.3\n",
    "    Rico van Midde\n",
    "\"\"\")"
   ]
  },
  {
   "cell_type": "code",
   "execution_count": 52,
   "metadata": {},
   "outputs": [],
   "source": [
    "import numpy as np\n",
    "from copy import deepcopy\n",
    "import regex as re\n",
    "from time import time"
   ]
  },
  {
   "cell_type": "code",
   "execution_count": 53,
   "metadata": {},
   "outputs": [],
   "source": [
    "testdata = \"\"\"MMMSXXMASM\n",
    "MSAMXMSMSA\n",
    "AMXSXMAAMM\n",
    "MSAMASMSMX\n",
    "XMASAMXAMM\n",
    "XXAMMXXAMA\n",
    "SMSMSASXSS\n",
    "SAXAMASAAA\n",
    "MAMMMXMMMM\n",
    "MXMXAXMASX\"\"\""
   ]
  },
  {
   "cell_type": "code",
   "execution_count": 74,
   "metadata": {},
   "outputs": [
    {
     "name": "stdout",
     "output_type": "stream",
     "text": [
      "data: [['X' 'M' 'M' ... 'X' 'M' 'X']\n",
      " ['S' 'X' 'S' ... 'A' 'S' 'X']\n",
      " ['S' 'X' 'S' ... 'X' 'X' 'A']\n",
      " ...\n",
      " ['A' 'M' 'M' ... 'A' 'A' 'S']\n",
      " ['M' 'A' 'X' ... 'M' 'M' 'S']\n",
      " ['S' 'S' 'X' ... 'A' 'M' 'X']] \n",
      "time: 0.0026564598083496094\n"
     ]
    }
   ],
   "source": [
    "### Read Data ###\n",
    "tic = time()\n",
    "\n",
    "TEST = 0\n",
    "if TEST:\n",
    "    f = testdata.splitlines()\n",
    "else:\n",
    "    infile = f'../Data/day{day:02}'\n",
    "    with open(infile, 'r') as f:\n",
    "        f = f.readlines()\n",
    "\n",
    "data = []\n",
    "for line in f:\n",
    "    line = line.strip()\n",
    "    line = list(line)\n",
    "    data.append(line)\n",
    "\n",
    "# # to numpy 2D array\n",
    "data = np.array(data)\n",
    "\n",
    "print(\"data:\", data, \"\\ntime:\", time()-tic)"
   ]
  },
  {
   "cell_type": "code",
   "execution_count": null,
   "metadata": {},
   "outputs": [
    {
     "name": "stdout",
     "output_type": "stream",
     "text": [
      "part 1: 2554 time: 0.0156710147857666\n"
     ]
    }
   ],
   "source": [
    "### part 1 ###\n",
    "tic = time()\n",
    "\n",
    "def get_all_diagonals(grid):\n",
    "    rows, cols = grid.shape\n",
    "    return [grid.diagonal(k) for k in range(-(rows-1), cols)]\n",
    "\n",
    "directions = {\n",
    "    \"horizontals\"   : data,\n",
    "    \"verticals\"     : data.T,\n",
    "    \"diagonals →\"   : get_all_diagonals(data),\n",
    "    \"diagonals ←\"   : get_all_diagonals(np.fliplr(data))\n",
    "}\n",
    "\n",
    "patterns = ['XMAS','SAMX']\n",
    "result = 0\n",
    "\n",
    "for lines in directions.values():\n",
    "    for line in lines:\n",
    "        text = \"\".join(line)\n",
    "        matches = re.findall('|'.join(patterns), text, overlapped=True)\n",
    "        result += len(matches)\n",
    "\n",
    "print(\"part 1:\", result, 'time:', time()-tic)"
   ]
  },
  {
   "cell_type": "code",
   "execution_count": 82,
   "metadata": {},
   "outputs": [
    {
     "name": "stdout",
     "output_type": "stream",
     "text": [
      "part 2: 1916 time: 0.015314579010009766\n"
     ]
    }
   ],
   "source": [
    "### part 2 ###\n",
    "tic = time()\n",
    "\n",
    "result = 0\n",
    "rows, cols = data.shape\n",
    "\n",
    "for i in range(1, rows-1):\n",
    "    for j in range(1, cols-1):\n",
    "        if data[i,j] == 'A':\n",
    "            # Check both diagonal SAM/MAS patterns\n",
    "            diagonal1 = data[i-1,j-1] + 'A' + data[i+1,j+1]\n",
    "            diagonal2 = data[i-1,j+1] + 'A' + data[i+1,j-1]\n",
    "            \n",
    "            if diagonal1 in ['SAM', 'MAS'] and diagonal2 in ['SAM', 'MAS']:\n",
    "                result += 1\n",
    "\n",
    "print(\"part 2:\", result, 'time:', time()-tic)"
   ]
  }
 ],
 "metadata": {
  "kernelspec": {
   "display_name": ".venv",
   "language": "python",
   "name": "python3"
  },
  "language_info": {
   "codemirror_mode": {
    "name": "ipython",
    "version": 3
   },
   "file_extension": ".py",
   "mimetype": "text/x-python",
   "name": "python",
   "nbconvert_exporter": "python",
   "pygments_lexer": "ipython3",
   "version": "3.12.3"
  }
 },
 "nbformat": 4,
 "nbformat_minor": 2
}
