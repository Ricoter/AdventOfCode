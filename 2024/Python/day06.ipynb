{
 "cells": [
  {
   "cell_type": "code",
   "execution_count": 34,
   "metadata": {},
   "outputs": [
    {
     "name": "stdout",
     "output_type": "stream",
     "text": [
      "\n",
      "    Advent of Code 2024, Day 6     🎄🎄🎄🎄🎄🎄\n",
      "    Python v3.12.3\n",
      "    Rico van Midde\n",
      "\n"
     ]
    }
   ],
   "source": [
    "day = 6\n",
    "print(f\"\"\"\n",
    "    Advent of Code 2024, Day {day}     {\"🎄\"*day}\n",
    "    Python v3.12.3\n",
    "    Rico van Midde\n",
    "\"\"\")"
   ]
  },
  {
   "cell_type": "code",
   "execution_count": 35,
   "metadata": {},
   "outputs": [],
   "source": [
    "import numpy as np\n",
    "from copy import deepcopy\n",
    "import regex as re\n",
    "from time import time"
   ]
  },
  {
   "cell_type": "code",
   "execution_count": 36,
   "metadata": {},
   "outputs": [],
   "source": [
    "testdata=\"\"\"\n",
    "....#.....\n",
    ".........#\n",
    "..........\n",
    "..#.......\n",
    ".......#..\n",
    "..........\n",
    ".#..^.....\n",
    "........#.\n",
    "#.........\n",
    "......#...\n",
    "\"\"\"[1:-1]"
   ]
  },
  {
   "cell_type": "code",
   "execution_count": 37,
   "metadata": {},
   "outputs": [
    {
     "name": "stdout",
     "output_type": "stream",
     "text": [
      "data: [['.' '.' '.' ... '#' '.' '.']\n",
      " ['.' '.' '.' ... '.' '.' '.']\n",
      " ['.' '.' '.' ... '.' '.' '.']\n",
      " ...\n",
      " ['.' '.' '.' ... '.' '.' '.']\n",
      " ['.' '.' '.' ... '.' '.' '.']\n",
      " ['.' '.' '.' ... '.' '#' '.']] \n",
      "time: 0.0021927356719970703\n"
     ]
    }
   ],
   "source": [
    "### Read Data ###\n",
    "tic = time()\n",
    "\n",
    "TEST = 0\n",
    "if TEST:\n",
    "    f = testdata.splitlines()\n",
    "else:\n",
    "    infile = f'../Data/day{day:02}'\n",
    "    with open(infile, 'r') as f:\n",
    "        f = f.readlines()\n",
    "\n",
    "data = []\n",
    "for line in f:\n",
    "    line = line.strip()\n",
    "    # line = list(line)\n",
    "    data.append(line)\n",
    "\n",
    "# # split lines in chunks\n",
    "# data = [re.split(r\"-|,\", line) for line in data]\n",
    "# # to numpy 2D array (characterwise)\n",
    "data = np.array([list(line) for line in data])\n",
    "# # to numpy 2D array\n",
    "# data = np.array(data)\n",
    "# data = data.astype(int)\n",
    "\n",
    "\n",
    "print(\"data:\", data, \"\\ntime:\", time()-tic)"
   ]
  },
  {
   "cell_type": "code",
   "execution_count": null,
   "metadata": {},
   "outputs": [],
   "source": [
    "### Helpers ###\n",
    "def inBoundary(x, shape):\n",
    "    return 0 <= x[0] < shape[0] and 0 <= x[1] < shape[1]\n",
    "\n",
    "direction_map = {\n",
    "    \"N\" : (-1,0),\n",
    "    \"E\" : (0,1),\n",
    "    \"S\" : (1,0),\n",
    "    \"W\" : (0,-1)\n",
    "}\n",
    "\n",
    "turn = {\n",
    "    \"N\" : \"E\",\n",
    "    \"E\" : \"S\",\n",
    "    \"S\" : \"W\",\n",
    "    \"W\" : \"N\"\n",
    "}"
   ]
  },
  {
   "cell_type": "code",
   "execution_count": 39,
   "metadata": {},
   "outputs": [
    {
     "name": "stdout",
     "output_type": "stream",
     "text": [
      "result: 5453 \n",
      "time: 0.006443023681640625\n"
     ]
    }
   ],
   "source": [
    "### part 1 ###\n",
    "tic = time()\n",
    "result = 0\n",
    "\n",
    "x = np.where(data=='^') # [vertical 6, horizontal 4]\n",
    "x = int(x[0][0]), int(x[1][0])\n",
    "visited = set()\n",
    "\n",
    "\n",
    "d = \"N\"\n",
    "while inBoundary(x, data.shape):\n",
    "    # keep track of visited\n",
    "    if x not in visited:\n",
    "        visited.add(x)\n",
    "\n",
    "    # calculate step\n",
    "    dx = direction_map[d]\n",
    "    new_x = x[0] + dx[0], x[1] + dx[1]\n",
    "\n",
    "    if not inBoundary(new_x, data.shape):\n",
    "        break\n",
    "\n",
    "    # turn right\n",
    "    if data[new_x] == '#':\n",
    "        d = turn[d]\n",
    "        continue\n",
    "    else:\n",
    "        x = new_x\n",
    "\n",
    "result = len(visited)\n",
    "\n",
    "print(\"result:\", result, '\\ntime:', time()-tic)"
   ]
  },
  {
   "cell_type": "code",
   "execution_count": 41,
   "metadata": {},
   "outputs": [
    {
     "name": "stdout",
     "output_type": "stream",
     "text": [
      "result: 2188 \n",
      "time: 38.48499536514282\n"
     ]
    }
   ],
   "source": [
    "### Part 2 : Solution ###\n",
    "tic = time()\n",
    "result = 0\n",
    "\n",
    "def recursive_walk(x, direction, visited, x_visited, depth, new_block = None):\n",
    "    positions = set()\n",
    "    shape = data.shape\n",
    "    while True:\n",
    "        # keep track of visited\n",
    "        visited.add((x, direction))\n",
    "        x_visited.add(x)\n",
    "\n",
    "        # calculate next step\n",
    "        dx = direction_map[direction]\n",
    "        new_x = x[0] + dx[0], x[1] + dx[1]\n",
    "\n",
    "        # boundary conditions\n",
    "        if not inBoundary(new_x, shape):\n",
    "            return len(positions) # = 0 for depth 1\n",
    "\n",
    "        # turn right \n",
    "        if data[new_x] == '#' or (depth == 1 and new_x==new_block):\n",
    "            direction = turn[direction]\n",
    "            continue\n",
    "        else:\n",
    "            # found a loop in depth 1\n",
    "            if depth == 1 and (new_x, direction) in visited:\n",
    "                return new_block\n",
    "            # create a hypothetical object in depth 0 and call the recursion (you cannot create a object on a visited square)\n",
    "            elif depth == 0 and new_x not in x_visited:\n",
    "                if new_x not in positions:\n",
    "                    new_block = recursive_walk(x, turn[direction], deepcopy(visited), deepcopy(x_visited), depth = 1, new_block=new_x)\n",
    "                    if new_block:\n",
    "                        positions.add(new_block)\n",
    "            x = new_x\n",
    "\n",
    "x_start = np.where(data=='^') # [vertical 6, horizontal 4]\n",
    "x_start = int(x_start[0][0]), int(x_start[1][0])\n",
    "\n",
    "result = recursive_walk(\n",
    "    x = x_start, # [vertical 6, horizontal 4]\n",
    "    visited = set(),\n",
    "    x_visited=set(),\n",
    "    direction = \"N\",\n",
    "    depth = 0\n",
    ")\n",
    "\n",
    "print(\"result:\", result, '\\ntime:', time()-tic)"
   ]
  }
 ],
 "metadata": {
  "kernelspec": {
   "display_name": ".venv",
   "language": "python",
   "name": "python3"
  },
  "language_info": {
   "codemirror_mode": {
    "name": "ipython",
    "version": 3
   },
   "file_extension": ".py",
   "mimetype": "text/x-python",
   "name": "python",
   "nbconvert_exporter": "python",
   "pygments_lexer": "ipython3",
   "version": "3.12.3"
  }
 },
 "nbformat": 4,
 "nbformat_minor": 2
}
